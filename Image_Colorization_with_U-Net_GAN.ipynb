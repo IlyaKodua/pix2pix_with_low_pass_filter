{
  "cells": [
    {
      "cell_type": "markdown",
      "metadata": {
        "id": "KzMfprMAKW1t"
      },
      "source": [
        "# Image Colorization with U-Net and GAN Tutorial"
      ]
    },
    {
      "cell_type": "markdown",
      "metadata": {
        "id": "7lzgBALQKW1w"
      },
      "source": [
        "**If you have already read the explanations, you can directly go to the code starting with heading: _1 - Implementing the paper - Our Baseline_**"
      ]
    },
    {
      "cell_type": "code",
      "execution_count": 1,
      "metadata": {
        "id": "XhTO4htaKW1w"
      },
      "outputs": [],
      "source": [
        "import os\n",
        "import glob\n",
        "import time\n",
        "import numpy as np\n",
        "from PIL import Image\n",
        "from pathlib import Path\n",
        "from tqdm.notebook import tqdm\n",
        "import matplotlib.pyplot as plt\n",
        "# from skimage.color import rgb2lab, lab2rgb\n",
        "\n",
        "import torch\n",
        "from torch import nn, optim\n",
        "from torchvision import transforms\n",
        "from torchvision.utils import make_grid\n",
        "from torch.utils.data import Dataset, DataLoader\n",
        "device = torch.device(\"cuda\" if torch.cuda.is_available() else \"cpu\")\n",
        "use_colab = None"
      ]
    },
    {
      "cell_type": "markdown",
      "metadata": {
        "id": "ld4xubQIKW1y"
      },
      "source": [
        "### 1.1.x Preparing Colab for running the code"
      ]
    },
    {
      "cell_type": "markdown",
      "metadata": {
        "id": "MBpQKOGEKW1y"
      },
      "source": [
        "If you are opening this on **Google Colab** you can uncomment and run the following to install fastai. Almost all of the code in the tutorial is with **pure PyTorch**. We need fastai here only to download part of COCO dataset and in one other step in the second section of the tutorial.\n",
        "\n",
        "Also make sure to set your runtime to **GPU** to be able to train the models much faster."
      ]
    },
    {
      "cell_type": "code",
      "execution_count": 2,
      "metadata": {
        "id": "WSBmqaXwKW1y"
      },
      "outputs": [],
      "source": [
        "#!pip install fastai --upgrade"
      ]
    },
    {
      "cell_type": "markdown",
      "metadata": {
        "id": "eyL6J-5EKW1z"
      },
      "source": [
        "The following will download about 20,000 images from COCO dataset. Notice that **we are going to use only 8000 of them** for training. Also you can use any other dataset like ImageNet as long as it contains various scenes and locations."
      ]
    },
    {
      "cell_type": "code",
      "execution_count": 3,
      "metadata": {
        "id": "7pI3Tq2BKW1z"
      },
      "outputs": [],
      "source": [
        "# from fastai.data.external import untar_data, URLs\n",
        "# coco_path = untar_data(URLs.COCO_SAMPLE)\n",
        "# coco_path = str(coco_path) + \"/train_sample\"\n",
        "# use_colab = True"
      ]
    },
    {
      "cell_type": "code",
      "execution_count": 4,
      "metadata": {
        "colab": {
          "base_uri": "https://localhost:8080/",
          "height": 269
        },
        "id": "wa9VLuo9KW10",
        "outputId": "0669c55f-7726-4cac-c10b-7eabf14f44e9"
      },
      "outputs": [
        {
          "output_type": "error",
          "ename": "ValueError",
          "evalue": "ignored",
          "traceback": [
            "\u001b[0;31m---------------------------------------------------------------------------\u001b[0m",
            "\u001b[0;31mValueError\u001b[0m                                Traceback (most recent call last)",
            "\u001b[0;32m<ipython-input-4-3201b455247f>\u001b[0m in \u001b[0;36m<module>\u001b[0;34m()\u001b[0m\n\u001b[1;32m      3\u001b[0m \u001b[0mpaths\u001b[0m \u001b[0;34m=\u001b[0m \u001b[0mglob\u001b[0m\u001b[0;34m.\u001b[0m\u001b[0mglob\u001b[0m\u001b[0;34m(\u001b[0m\u001b[0mpath\u001b[0m \u001b[0;34m+\u001b[0m \u001b[0;34m\"/*.jpg\"\u001b[0m\u001b[0;34m)\u001b[0m \u001b[0;31m# Grabbing all the image file names\u001b[0m\u001b[0;34m\u001b[0m\u001b[0;34m\u001b[0m\u001b[0m\n\u001b[1;32m      4\u001b[0m \u001b[0mnp\u001b[0m\u001b[0;34m.\u001b[0m\u001b[0mrandom\u001b[0m\u001b[0;34m.\u001b[0m\u001b[0mseed\u001b[0m\u001b[0;34m(\u001b[0m\u001b[0;36m123\u001b[0m\u001b[0;34m)\u001b[0m\u001b[0;34m\u001b[0m\u001b[0;34m\u001b[0m\u001b[0m\n\u001b[0;32m----> 5\u001b[0;31m \u001b[0mpaths_subset\u001b[0m \u001b[0;34m=\u001b[0m \u001b[0mnp\u001b[0m\u001b[0;34m.\u001b[0m\u001b[0mrandom\u001b[0m\u001b[0;34m.\u001b[0m\u001b[0mchoice\u001b[0m\u001b[0;34m(\u001b[0m\u001b[0mpaths\u001b[0m\u001b[0;34m,\u001b[0m \u001b[0;36m36\u001b[0m\u001b[0;34m,\u001b[0m \u001b[0mreplace\u001b[0m\u001b[0;34m=\u001b[0m\u001b[0;32mFalse\u001b[0m\u001b[0;34m)\u001b[0m \u001b[0;31m# choosing 1000 images randomly\u001b[0m\u001b[0;34m\u001b[0m\u001b[0;34m\u001b[0m\u001b[0m\n\u001b[0m\u001b[1;32m      6\u001b[0m \u001b[0mrand_idxs\u001b[0m \u001b[0;34m=\u001b[0m \u001b[0mnp\u001b[0m\u001b[0;34m.\u001b[0m\u001b[0mrandom\u001b[0m\u001b[0;34m.\u001b[0m\u001b[0mpermutation\u001b[0m\u001b[0;34m(\u001b[0m\u001b[0;36m36\u001b[0m\u001b[0;34m)\u001b[0m\u001b[0;34m\u001b[0m\u001b[0;34m\u001b[0m\u001b[0m\n\u001b[1;32m      7\u001b[0m \u001b[0mtrain_idxs\u001b[0m \u001b[0;34m=\u001b[0m \u001b[0mrand_idxs\u001b[0m\u001b[0;34m[\u001b[0m\u001b[0;34m:\u001b[0m\u001b[0;36m16\u001b[0m\u001b[0;34m]\u001b[0m \u001b[0;31m# choosing the first 8000 as training set\u001b[0m\u001b[0;34m\u001b[0m\u001b[0;34m\u001b[0m\u001b[0m\n",
            "\u001b[0;32mmtrand.pyx\u001b[0m in \u001b[0;36mnumpy.random.mtrand.RandomState.choice\u001b[0;34m()\u001b[0m\n",
            "\u001b[0;31mValueError\u001b[0m: 'a' cannot be empty unless no samples are taken"
          ]
        }
      ],
      "source": [
        "path = \"dataset/train\"\n",
        "    \n",
        "paths = glob.glob(path + \"/*.jpg\") # Grabbing all the image file names\n",
        "np.random.seed(123)\n",
        "paths_subset = np.random.choice(paths, 36, replace=False) # choosing 1000 images randomly\n",
        "rand_idxs = np.random.permutation(36)\n",
        "train_idxs = rand_idxs[:16] # choosing the first 8000 as training set\n",
        "val_idxs = rand_idxs[16:] # choosing last 2000 as validation set\n",
        "train_paths = paths_subset[train_idxs]\n",
        "val_paths = paths_subset[val_idxs]\n",
        "print(len(train_paths), len(val_paths))"
      ]
    },
    {
      "cell_type": "code",
      "execution_count": null,
      "metadata": {
        "id": "QwKekRt5KW11"
      },
      "outputs": [],
      "source": [
        "_, axes = plt.subplots(4, 4, figsize=(10, 10))\n",
        "for ax, img_path in zip(axes.flatten(), train_paths):\n",
        "    ax.imshow(Image.open(img_path))\n",
        "    ax.axis(\"off\")"
      ]
    },
    {
      "cell_type": "markdown",
      "metadata": {
        "id": "0ORVCYG1KW11"
      },
      "source": [
        "Although we are using the same dataset and number of training samples, the exact 8000 images that you train your model on may vary (although we are seeding!) because the dataset here has only 20000 images with different ordering while I sampled 10000 images from the complete dataset."
      ]
    },
    {
      "cell_type": "markdown",
      "metadata": {
        "id": "SZVXlGRDKW11"
      },
      "source": [
        "### 1.2- Making Datasets and DataLoaders"
      ]
    },
    {
      "cell_type": "markdown",
      "metadata": {
        "id": "hlCEY6F7KW12"
      },
      "source": [
        "I hope the code is self-explanatory. I'm resizing the images and flipping horizontally (flipping only if it is training set) and then I read an RGB image, convert it to Lab color space and separate the first (grayscale) channel and the color channels as my inputs and targets for the models  respectively. Then I'm making the data loaders."
      ]
    },
    {
      "cell_type": "code",
      "execution_count": null,
      "metadata": {
        "id": "aEqMGSd2KW12"
      },
      "outputs": [],
      "source": [
        "# Color conversion code\n",
        "def rgb2xyz(rgb): # rgb from [0,1]\n",
        "    # xyz_from_rgb = np.array([[0.412453, 0.357580, 0.180423],\n",
        "        # [0.212671, 0.715160, 0.072169],\n",
        "        # [0.019334, 0.119193, 0.950227]])\n",
        "\n",
        "    mask = (rgb > .04045).type(torch.FloatTensor)\n",
        "    if(rgb.is_cuda):\n",
        "        mask = mask.cuda()\n",
        "\n",
        "    rgb = (((rgb+.055)/1.055)**2.4)*mask + rgb/12.92*(1-mask)\n",
        "\n",
        "    x = .412453*rgb[:,0,:,:]+.357580*rgb[:,1,:,:]+.180423*rgb[:,2,:,:]\n",
        "    y = .212671*rgb[:,0,:,:]+.715160*rgb[:,1,:,:]+.072169*rgb[:,2,:,:]\n",
        "    z = .019334*rgb[:,0,:,:]+.119193*rgb[:,1,:,:]+.950227*rgb[:,2,:,:]\n",
        "    out = torch.cat((x[:,None,:,:],y[:,None,:,:],z[:,None,:,:]),dim=1)\n",
        "\n",
        "    # if(torch.sum(torch.isnan(out))>0):\n",
        "        # print('rgb2xyz')\n",
        "        # embed()\n",
        "    return out\n",
        "\n",
        "def xyz2rgb(xyz):\n",
        "    # array([[ 3.24048134, -1.53715152, -0.49853633],\n",
        "    #        [-0.96925495,  1.87599   ,  0.04155593],\n",
        "    #        [ 0.05564664, -0.20404134,  1.05731107]])\n",
        "\n",
        "    r = 3.24048134*xyz[:,0,:,:]-1.53715152*xyz[:,1,:,:]-0.49853633*xyz[:,2,:,:]\n",
        "    g = -0.96925495*xyz[:,0,:,:]+1.87599*xyz[:,1,:,:]+.04155593*xyz[:,2,:,:]\n",
        "    b = .05564664*xyz[:,0,:,:]-.20404134*xyz[:,1,:,:]+1.05731107*xyz[:,2,:,:]\n",
        "\n",
        "    rgb = torch.cat((r[:,None,:,:],g[:,None,:,:],b[:,None,:,:]),dim=1)\n",
        "    rgb = torch.max(rgb,torch.zeros_like(rgb)) # sometimes reaches a small negative number, which causes NaNs\n",
        "\n",
        "    mask = (rgb > .0031308).type(torch.FloatTensor)\n",
        "    if(rgb.is_cuda):\n",
        "        mask = mask.cuda()\n",
        "\n",
        "    rgb = (1.055*(rgb**(1./2.4)) - 0.055)*mask + 12.92*rgb*(1-mask)\n",
        "\n",
        "    # if(torch.sum(torch.isnan(rgb))>0):\n",
        "        # print('xyz2rgb')\n",
        "        # embed()\n",
        "    return rgb\n",
        "\n",
        "def xyz2lab(xyz):\n",
        "    # 0.95047, 1., 1.08883 # white\n",
        "    sc = torch.Tensor((0.95047, 1., 1.08883))[None,:,None,None]\n",
        "    if(xyz.is_cuda):\n",
        "        sc = sc.cuda()\n",
        "\n",
        "    xyz_scale = xyz/sc\n",
        "\n",
        "    mask = (xyz_scale > .008856).type(torch.FloatTensor)\n",
        "    if(xyz_scale.is_cuda):\n",
        "        mask = mask.cuda()\n",
        "\n",
        "    xyz_int = xyz_scale**(1/3.)*mask + (7.787*xyz_scale + 16./116.)*(1-mask)\n",
        "\n",
        "    L = 116.*xyz_int[:,1,:,:]-16.\n",
        "    a = 500.*(xyz_int[:,0,:,:]-xyz_int[:,1,:,:])\n",
        "    b = 200.*(xyz_int[:,1,:,:]-xyz_int[:,2,:,:])\n",
        "    out = torch.cat((L[:,None,:,:],a[:,None,:,:],b[:,None,:,:]),dim=1)\n",
        "\n",
        "    # if(torch.sum(torch.isnan(out))>0):\n",
        "        # print('xyz2lab')\n",
        "        # embed()\n",
        "\n",
        "    return out\n",
        "\n",
        "def lab2xyz(lab):\n",
        "    y_int = (lab[:,0,:,:]+16.)/116.\n",
        "    x_int = (lab[:,1,:,:]/500.) + y_int\n",
        "    z_int = y_int - (lab[:,2,:,:]/200.)\n",
        "    if(z_int.is_cuda):\n",
        "        z_int = torch.max(torch.Tensor((0,)).cuda(), z_int)\n",
        "    else:\n",
        "        z_int = torch.max(torch.Tensor((0,)), z_int)\n",
        "\n",
        "    out = torch.cat((x_int[:,None,:,:],y_int[:,None,:,:],z_int[:,None,:,:]),dim=1)\n",
        "    mask = (out > .2068966).type(torch.FloatTensor)\n",
        "    if(out.is_cuda):\n",
        "        mask = mask.cuda()\n",
        "\n",
        "    out = (out**3.)*mask + (out - 16./116.)/7.787*(1-mask)\n",
        "\n",
        "    sc = torch.Tensor((0.95047, 1., 1.08883))[None,:,None,None]\n",
        "    sc = sc.to(out.device)\n",
        "\n",
        "    out = out*sc\n",
        "\n",
        "    # if(torch.sum(torch.isnan(out))>0):\n",
        "        # print('lab2xyz')\n",
        "        # embed()\n",
        "\n",
        "    return out\n",
        "\n",
        "def rgb2lab(rgb, l_cent= 50, l_norm = 100, ab_norm = 110):\n",
        "    lab = xyz2lab(rgb2xyz(rgb))\n",
        "    l_rs = (lab[:,[0],:,:]-l_cent)/l_norm\n",
        "    ab_rs = lab[:,1:,:,:]/ab_norm\n",
        "    out = torch.cat((l_rs,ab_rs),dim=1)\n",
        "    # if(torch.sum(torch.isnan(out))>0):\n",
        "        # print('rgb2lab')\n",
        "        # embed()\n",
        "    return out\n",
        "\n",
        "def lab2rgb(lab_rs, l_cent= 50, l_norm = 100, ab_norm = 110):\n",
        "    l = lab_rs[:,[0],:,:]*l_norm + l_cent\n",
        "    ab = lab_rs[:,1:,:,:]*ab_norm\n",
        "    lab = torch.cat((l,ab),dim=1)\n",
        "    out = xyz2rgb(lab2xyz(lab))\n",
        "    # if(torch.sum(torch.isnan(out))>0):\n",
        "        # print('lab2rgb')\n",
        "        # embed()\n",
        "    return out\n",
        "\n",
        "\n",
        "\n",
        "\n",
        "\n",
        "def low_pass(img):\n",
        "\n",
        "    r = 1e3 # how narrower the window is\n",
        "    ham1 = np.hamming(img.shape[2])[:,None] # 1D hamming\n",
        "    ham2 = np.hamming(img.shape[3])[:,None] # 1D hamming\n",
        "    ham2d = np.sqrt(np.dot(ham1, ham2.T)) ** r # expand to 2D hamming\n",
        "    ham2d = torch.from_numpy(ham2d)\n",
        "\n",
        "    ab_filter = np.zeros_like(img)\n",
        "    for b in range(ab_filter.shape[0]):\n",
        "        for i in range(2):\n",
        "            img_chan = img[b,i,:,:]\n",
        "\n",
        "            f = torch.fft.fft2(img_chan)\n",
        "            f_shifted = torch.fft.fftshift(f)\n",
        "            f_filtered = ham2d * f_shifted\n",
        "\n",
        "            f_filtered_shifted = torch.fft.ifftshift(f_filtered)\n",
        "            inv_img = torch.fft.ifft2(f_filtered_shifted) # inverse F.T.\n",
        "            ab_filter[b,i,:,:] = torch.real(inv_img)\n",
        "\n",
        "    return ab_filter\n",
        "\n"
      ]
    },
    {
      "cell_type": "code",
      "execution_count": null,
      "metadata": {
        "id": "XzynTNPaKW13"
      },
      "outputs": [],
      "source": [
        "SIZE = 256\n",
        "class ColorizationDataset(Dataset):\n",
        "    def __init__(self, paths, split='train'):\n",
        "        if split == 'train':\n",
        "            self.transforms = transforms.Compose([\n",
        "                transforms.Resize((SIZE, SIZE),  Image.BICUBIC),\n",
        "                transforms.RandomHorizontalFlip(), # A little data augmentation!\n",
        "            ])\n",
        "        elif split == 'val':\n",
        "            self.transforms = transforms.Resize((SIZE, SIZE),  Image.BICUBIC)\n",
        "        \n",
        "        self.split = split\n",
        "        self.size = SIZE\n",
        "        self.paths = paths\n",
        "    \n",
        "    def __getitem__(self, idx):\n",
        "        img = Image.open(self.paths[idx]).convert(\"RGB\")\n",
        "        img = self.transforms(img)\n",
        "        img = np.array(img)\n",
        "        # img_lab = xyz2lab(rgb2xyz(img)).astype(\"float32\") # Converting RGB to L*a*b\n",
        "        # ab_low = self.get_filter_image(img_lab)\n",
        "        img_rgb = transforms.ToTensor()(img)\n",
        "        # print(img_rgb.shape)\n",
        "        return img_rgb\n",
        "    \n",
        "    def __len__(self):\n",
        "        return len(self.paths)\n",
        "\n",
        "\n",
        "def make_dataloaders(batch_size=4, n_workers=4, pin_memory=True, **kwargs): # A handy function to make our dataloaders\n",
        "    dataset = ColorizationDataset(**kwargs)\n",
        "    dataloader = DataLoader(dataset, batch_size=batch_size, num_workers=n_workers,\n",
        "                            pin_memory=pin_memory)\n",
        "    return dataloader"
      ]
    },
    {
      "cell_type": "code",
      "execution_count": null,
      "metadata": {
        "id": "WMMOAmG4KW13"
      },
      "outputs": [],
      "source": [
        "train_dl = make_dataloaders(paths=train_paths, split='train')\n",
        "val_dl = make_dataloaders(paths=val_paths, split='val')\n",
        "\n",
        "data = next(iter(train_dl))\n",
        "img_batch = data\n",
        "print(img_batch.shape)\n",
        "print(len(train_dl), len(val_dl))"
      ]
    },
    {
      "cell_type": "markdown",
      "metadata": {
        "id": "OvWmXUlkKW14"
      },
      "source": [
        "### 1.3- Generator proposed by the paper"
      ]
    },
    {
      "cell_type": "code",
      "execution_count": null,
      "metadata": {
        "id": "2jPXWZ7CKW14"
      },
      "outputs": [],
      "source": [
        "import torch\n",
        "import torch.nn as nn\n",
        "import torch.nn.functional as F\n",
        "\n",
        "class SIGGRAPHGenerator(nn.Module):\n",
        "    def __init__(self, input_nc=4, output_nc=2, norm_layer=nn.BatchNorm2d, use_tanh=True, classification=False):\n",
        "        super(SIGGRAPHGenerator, self).__init__()\n",
        "        self.input_nc = input_nc\n",
        "        self.output_nc = output_nc\n",
        "        self.classification = classification\n",
        "        use_bias = True\n",
        "\n",
        "        # Conv1\n",
        "        # model1=[nn.ReflectionPad2d(1),]\n",
        "        model1 = [nn.Conv2d(input_nc, 64, kernel_size=3, stride=1, padding=1, bias=use_bias), ]\n",
        "        # model1+=[norm_layer(64),]\n",
        "        model1 += [nn.ReLU(True), ]\n",
        "        # model1+=[nn.ReflectionPad2d(1),]\n",
        "        model1 += [nn.Conv2d(64, 64, kernel_size=3, stride=1, padding=1, bias=use_bias), ]\n",
        "        model1 += [nn.ReLU(True), ]\n",
        "        model1 += [norm_layer(64), ]\n",
        "        # add a subsampling operation\n",
        "\n",
        "        # Conv2\n",
        "        # model2=[nn.ReflectionPad2d(1),]\n",
        "        model2 = [nn.Conv2d(64, 128, kernel_size=3, stride=1, padding=1, bias=use_bias), ]\n",
        "        # model2+=[norm_layer(128),]\n",
        "        model2 += [nn.ReLU(True), ]\n",
        "        # model2+=[nn.ReflectionPad2d(1),]\n",
        "        model2 += [nn.Conv2d(128, 128, kernel_size=3, stride=1, padding=1, bias=use_bias), ]\n",
        "        model2 += [nn.ReLU(True), ]\n",
        "        model2 += [norm_layer(128), ]\n",
        "        # add a subsampling layer operation\n",
        "\n",
        "        # Conv3\n",
        "        # model3=[nn.ReflectionPad2d(1),]\n",
        "        model3 = [nn.Conv2d(128, 256, kernel_size=3, stride=1, padding=1, bias=use_bias), ]\n",
        "        # model3+=[norm_layer(256),]\n",
        "        model3 += [nn.ReLU(True), ]\n",
        "        # model3+=[nn.ReflectionPad2d(1),]\n",
        "        model3 += [nn.Conv2d(256, 256, kernel_size=3, stride=1, padding=1, bias=use_bias), ]\n",
        "        # model3+=[norm_layer(256),]\n",
        "        model3 += [nn.ReLU(True), ]\n",
        "        # model3+=[nn.ReflectionPad2d(1),]\n",
        "        model3 += [nn.Conv2d(256, 256, kernel_size=3, stride=1, padding=1, bias=use_bias), ]\n",
        "        model3 += [nn.ReLU(True), ]\n",
        "        model3 += [norm_layer(256), ]\n",
        "        # add a subsampling layer operation\n",
        "\n",
        "        # Conv4\n",
        "        # model47=[nn.ReflectionPad2d(1),]\n",
        "        model4 = [nn.Conv2d(256, 512, kernel_size=3, stride=1, padding=1, bias=use_bias), ]\n",
        "        # model4+=[norm_layer(512),]\n",
        "        model4 += [nn.ReLU(True), ]\n",
        "        # model4+=[nn.ReflectionPad2d(1),]\n",
        "        model4 += [nn.Conv2d(512, 512, kernel_size=3, stride=1, padding=1, bias=use_bias), ]\n",
        "        # model4+=[norm_layer(512),]\n",
        "        model4 += [nn.ReLU(True), ]\n",
        "        # model4+=[nn.ReflectionPad2d(1),]\n",
        "        model4 += [nn.Conv2d(512, 512, kernel_size=3, stride=1, padding=1, bias=use_bias), ]\n",
        "        model4 += [nn.ReLU(True), ]\n",
        "        model4 += [norm_layer(512), ]\n",
        "\n",
        "        # Conv5\n",
        "        # model47+=[nn.ReflectionPad2d(2),]\n",
        "        model5 = [nn.Conv2d(512, 512, kernel_size=3, dilation=2, stride=1, padding=2, bias=use_bias), ]\n",
        "        # model5+=[norm_layer(512),]\n",
        "        model5 += [nn.ReLU(True), ]\n",
        "        # model5+=[nn.ReflectionPad2d(2),]\n",
        "        model5 += [nn.Conv2d(512, 512, kernel_size=3, dilation=2, stride=1, padding=2, bias=use_bias), ]\n",
        "        # model5+=[norm_layer(512),]\n",
        "        model5 += [nn.ReLU(True), ]\n",
        "        # model5+=[nn.ReflectionPad2d(2),]\n",
        "        model5 += [nn.Conv2d(512, 512, kernel_size=3, dilation=2, stride=1, padding=2, bias=use_bias), ]\n",
        "        model5 += [nn.ReLU(True), ]\n",
        "        model5 += [norm_layer(512), ]\n",
        "\n",
        "        # Conv6\n",
        "        # model6+=[nn.ReflectionPad2d(2),]\n",
        "        model6 = [nn.Conv2d(512, 512, kernel_size=3, dilation=2, stride=1, padding=2, bias=use_bias), ]\n",
        "        # model6+=[norm_layer(512),]\n",
        "        model6 += [nn.ReLU(True), ]\n",
        "        # model6+=[nn.ReflectionPad2d(2),]\n",
        "        model6 += [nn.Conv2d(512, 512, kernel_size=3, dilation=2, stride=1, padding=2, bias=use_bias), ]\n",
        "        # model6+=[norm_layer(512),]\n",
        "        model6 += [nn.ReLU(True), ]\n",
        "        # model6+=[nn.ReflectionPad2d(2),]\n",
        "        model6 += [nn.Conv2d(512, 512, kernel_size=3, dilation=2, stride=1, padding=2, bias=use_bias), ]\n",
        "        model6 += [nn.ReLU(True), ]\n",
        "        model6 += [norm_layer(512), ]\n",
        "\n",
        "        # Conv7\n",
        "        # model47+=[nn.ReflectionPad2d(1),]\n",
        "        model7 = [nn.Conv2d(512, 512, kernel_size=3, stride=1, padding=1, bias=use_bias), ]\n",
        "        # model7+=[norm_layer(512),]\n",
        "        model7 += [nn.ReLU(True), ]\n",
        "        # model7+=[nn.ReflectionPad2d(1),]\n",
        "        model7 += [nn.Conv2d(512, 512, kernel_size=3, stride=1, padding=1, bias=use_bias), ]\n",
        "        # model7+=[norm_layer(512),]\n",
        "        model7 += [nn.ReLU(True), ]\n",
        "        # model7+=[nn.ReflectionPad2d(1),]\n",
        "        model7 += [nn.Conv2d(512, 512, kernel_size=3, stride=1, padding=1, bias=use_bias), ]\n",
        "        model7 += [nn.ReLU(True), ]\n",
        "        model7 += [norm_layer(512), ]\n",
        "\n",
        "        # Conv7\n",
        "        model8up = [nn.ConvTranspose2d(512, 256, kernel_size=4, stride=2, padding=1, bias=use_bias)]\n",
        "\n",
        "        # model3short8=[nn.ReflectionPad2d(1),]\n",
        "        model3short8 = [nn.Conv2d(256, 256, kernel_size=3, stride=1, padding=1, bias=use_bias), ]\n",
        "\n",
        "        # model47+=[norm_layer(256),]\n",
        "        model8 = [nn.ReLU(True), ]\n",
        "        # model8+=[nn.ReflectionPad2d(1),]\n",
        "        model8 += [nn.Conv2d(256, 256, kernel_size=3, stride=1, padding=1, bias=use_bias), ]\n",
        "        # model8+=[norm_layer(256),]\n",
        "        model8 += [nn.ReLU(True), ]\n",
        "        # model8+=[nn.ReflectionPad2d(1),]\n",
        "        model8 += [nn.Conv2d(256, 256, kernel_size=3, stride=1, padding=1, bias=use_bias), ]\n",
        "        model8 += [nn.ReLU(True), ]\n",
        "        model8 += [norm_layer(256), ]\n",
        "\n",
        "        # Conv9\n",
        "        model9up = [nn.ConvTranspose2d(256, 128, kernel_size=4, stride=2, padding=1, bias=use_bias), ]\n",
        "\n",
        "        # model2short9=[nn.ReflectionPad2d(1),]\n",
        "        model2short9 = [nn.Conv2d(128, 128, kernel_size=3, stride=1, padding=1, bias=use_bias), ]\n",
        "        # add the two feature maps above\n",
        "\n",
        "        # model9=[norm_layer(128),]\n",
        "        model9 = [nn.ReLU(True), ]\n",
        "        # model9+=[nn.ReflectionPad2d(1),]\n",
        "        model9 += [nn.Conv2d(128, 128, kernel_size=3, stride=1, padding=1, bias=use_bias), ]\n",
        "        model9 += [nn.ReLU(True), ]\n",
        "        model9 += [norm_layer(128), ]\n",
        "\n",
        "        # Conv10\n",
        "        model10up = [nn.ConvTranspose2d(128, 128, kernel_size=4, stride=2, padding=1, bias=use_bias), ]\n",
        "\n",
        "        # model1short10=[nn.ReflectionPad2d(1),]\n",
        "        model1short10 = [nn.Conv2d(64, 128, kernel_size=3, stride=1, padding=1, bias=use_bias), ]\n",
        "        # add the two feature maps above\n",
        "\n",
        "        # model10=[norm_layer(128),]\n",
        "        model10 = [nn.ReLU(True), ]\n",
        "        # model10+=[nn.ReflectionPad2d(1),]\n",
        "        model10 += [nn.Conv2d(128, 128, kernel_size=3, dilation=1, stride=1, padding=1, bias=use_bias), ]\n",
        "        model10 += [nn.LeakyReLU(negative_slope=.2), ]\n",
        "\n",
        "        # classification output\n",
        "        model_class = [nn.Conv2d(256, 529, kernel_size=1, padding=0, dilation=1, stride=1, bias=use_bias), ]\n",
        "\n",
        "        # regression output\n",
        "        model_out = [nn.Conv2d(128, 2, kernel_size=1, padding=0, dilation=1, stride=1, bias=use_bias), ]\n",
        "        if(use_tanh):\n",
        "            model_out += [nn.Tanh()]\n",
        "\n",
        "        self.model1 = nn.Sequential(*model1)\n",
        "        self.model2 = nn.Sequential(*model2)\n",
        "        self.model3 = nn.Sequential(*model3)\n",
        "        self.model4 = nn.Sequential(*model4)\n",
        "        self.model5 = nn.Sequential(*model5)\n",
        "        self.model6 = nn.Sequential(*model6)\n",
        "        self.model7 = nn.Sequential(*model7)\n",
        "        self.model8up = nn.Sequential(*model8up)\n",
        "        self.model8 = nn.Sequential(*model8)\n",
        "        self.model9up = nn.Sequential(*model9up)\n",
        "        self.model9 = nn.Sequential(*model9)\n",
        "        self.model10up = nn.Sequential(*model10up)\n",
        "        self.model10 = nn.Sequential(*model10)\n",
        "        self.model3short8 = nn.Sequential(*model3short8)\n",
        "        self.model2short9 = nn.Sequential(*model2short9)\n",
        "        self.model1short10 = nn.Sequential(*model1short10)\n",
        "\n",
        "        self.model_class = nn.Sequential(*model_class)\n",
        "        self.model_out = nn.Sequential(*model_out)\n",
        "\n",
        "        self.upsample4 = nn.Sequential(*[nn.Upsample(scale_factor=4, mode='nearest'), ])\n",
        "        self.softmax = nn.Sequential(*[nn.Softmax(dim=1), ])\n",
        "\n",
        "    def forward(self, input_A, input_B=None, mask_B=None):\n",
        "        if(input_B is None):\n",
        "            input_B = torch.cat((input_A*0, input_A*0), dim=1)\n",
        "        if(mask_B is None):\n",
        "            mask_B = input_A*0\n",
        "        conv1_2 = self.model1(torch.cat((input_A, input_B, mask_B), dim=1))\n",
        "        conv2_2 = self.model2(conv1_2[:, :, ::2, ::2])\n",
        "        conv3_3 = self.model3(conv2_2[:, :, ::2, ::2])\n",
        "        conv4_3 = self.model4(conv3_3[:, :, ::2, ::2])\n",
        "        conv5_3 = self.model5(conv4_3)\n",
        "        conv6_3 = self.model6(conv5_3)\n",
        "        conv7_3 = self.model7(conv6_3)\n",
        "        conv8_up = self.model8up(conv7_3) + self.model3short8(conv3_3)\n",
        "        conv8_3 = self.model8(conv8_up)\n",
        "\n",
        "        if(self.classification):\n",
        "            out_class = self.model_class(conv8_3)\n",
        "\n",
        "            conv9_up = self.model9up(conv8_3.detach()) + self.model2short9(conv2_2.detach())\n",
        "            conv9_3 = self.model9(conv9_up)\n",
        "            conv10_up = self.model10up(conv9_3) + self.model1short10(conv1_2.detach())\n",
        "            conv10_2 = self.model10(conv10_up)\n",
        "            out_reg = self.model_out(conv10_2)\n",
        "        else:\n",
        "            # out_class = self.model_class(conv8_3.detach())\n",
        "\n",
        "            conv9_up = self.re_pad_sum(self.model9up(conv8_3), self.model2short9(conv2_2))\n",
        "            conv9_3 = self.model9(conv9_up)\n",
        "            conv10_up = self.re_pad_sum(self.model10up(conv9_3),self.model1short10(conv1_2))\n",
        "            conv10_2 = self.model10(conv10_up)\n",
        "            out_reg = self.model_out(conv10_2)\n",
        "\n",
        "        # return (out_class, out_reg)\n",
        "        return out_reg\n",
        "\n",
        "    def re_pad_sum(self, x, y):\n",
        "\n",
        "\n",
        "        diffY = y.size()[2] - x.size()[2]\n",
        "        diffX = y.size()[3] - x.size()[3]\n",
        "\n",
        "        x = F.pad(x, [diffX // 2, diffX - diffX // 2,\n",
        "                        diffY // 2, diffY - diffY // 2])\n",
        "        return x + y \n",
        "\n",
        "\n",
        "def siggraph17(pretrained=True):\n",
        "    model = SIGGRAPHGenerator()\n",
        "    if(pretrained):\n",
        "        import torch.utils.model_zoo as model_zoo\n",
        "        model.load_state_dict(model_zoo.load_url('http://colorization.eecs.berkeley.edu/siggraph/models/caffemodel.pth',map_location='cpu',check_hash=True))\n",
        "        # model.load_state_dict(model_zoo.load_url('http://colorization.eecs.berkeley.edu/siggraph/models/pytorch.pth',map_location='cpu',check_hash=True))\n",
        "    return model"
      ]
    },
    {
      "cell_type": "markdown",
      "metadata": {
        "id": "_KhwjkmYKW15"
      },
      "source": [
        "### 1.4- Discriminator"
      ]
    },
    {
      "cell_type": "markdown",
      "metadata": {
        "id": "B5HM0wCAKW16"
      },
      "source": [
        "The architecture of our discriminator is rather straight forward. This code implements a model by stacking blocks of Conv-BatchNorm-LeackyReLU to decide whether the input image is fake or real. Notice that the first and last blocks do not use normalization and the last block has no activation function (it is embedded in the loss function we will use)."
      ]
    },
    {
      "cell_type": "code",
      "execution_count": null,
      "metadata": {
        "id": "yxyU_0zdKW17"
      },
      "outputs": [],
      "source": [
        "class PatchDiscriminator(nn.Module):\n",
        "    def __init__(self, input_c, num_filters=64, n_down=3):\n",
        "        super().__init__()\n",
        "        model = [self.get_layers(input_c, num_filters, norm=False)]\n",
        "        model += [self.get_layers(num_filters * 2 ** i, num_filters * 2 ** (i + 1), s=1 if i == (n_down-1) else 2) \n",
        "                          for i in range(n_down)] # the 'if' statement is taking care of not using\n",
        "                                                  # stride of 2 for the last block in this loop\n",
        "        model += [self.get_layers(num_filters * 2 ** n_down, 1, s=1, norm=False, act=False)] # Make sure to not use normalization or\n",
        "                                                                                             # activation for the last layer of the model\n",
        "        self.model = nn.Sequential(*model)                                                   \n",
        "        \n",
        "    def get_layers(self, ni, nf, k=4, s=2, p=1, norm=True, act=True): # when needing to make some repeatitive blocks of layers,\n",
        "        layers = [nn.Conv2d(ni, nf, k, s, p, bias=not norm)]          # it's always helpful to make a separate method for that purpose\n",
        "        if norm: layers += [nn.BatchNorm2d(nf)]\n",
        "        if act: layers += [nn.LeakyReLU(0.2, True)]\n",
        "        return nn.Sequential(*layers)\n",
        "    \n",
        "    def forward(self, x):\n",
        "        return self.model(x)"
      ]
    },
    {
      "cell_type": "markdown",
      "metadata": {
        "id": "sGM1ZKVIKW17"
      },
      "source": [
        "Let's take a look at its blocks:"
      ]
    },
    {
      "cell_type": "code",
      "execution_count": null,
      "metadata": {
        "id": "Cz6eZuWhKW17"
      },
      "outputs": [],
      "source": [
        "PatchDiscriminator(3)"
      ]
    },
    {
      "cell_type": "markdown",
      "metadata": {
        "id": "rvA3_9sRKW17"
      },
      "source": [
        "And its output shape:"
      ]
    },
    {
      "cell_type": "code",
      "execution_count": null,
      "metadata": {
        "id": "Hb6Kk6_9KW18"
      },
      "outputs": [],
      "source": [
        "discriminator = PatchDiscriminator(3)\n",
        "dummy_input = torch.randn(16, 3, 256, 256) # batch_size, channels, size, size\n",
        "out = discriminator(dummy_input)\n",
        "out.shape"
      ]
    },
    {
      "cell_type": "markdown",
      "metadata": {
        "id": "bppBZukjKW18"
      },
      "source": [
        "We are using a \"Patch\" Discriminator here. Okay, what is it?! In a vanilla discriminator, the model outputs one number (a scaler) which represents how much the model thinks the input (which is the whole image) is real (or fake). In a patch discriminator, the model outputs one number for every patch of say 70 by 70 pixels of the input image and for each of them decides whether it is fake or not separately. Using such a model for the task of colorization seems reasonable to me because the local changes that the model needs to make are really important and maybe deciding on the whole image as in vanilla discriminator cannot take care of the subtleties of this task. Here, the model's output shape is 30 by 30 but it does not mean that our patches are 30 by 30. The actual patch size is obtained when you compute the receptive field of each of these 900 (30 multiplied by 30) output numbers which in our case will be 70 by 70."
      ]
    },
    {
      "cell_type": "markdown",
      "metadata": {
        "id": "U2UHTLB3KW18"
      },
      "source": [
        "### 1.5- GAN Loss"
      ]
    },
    {
      "cell_type": "markdown",
      "metadata": {
        "id": "i-S9AQ69KW18"
      },
      "source": [
        "This is a handy class we can use to calculate the GAN loss of our final model. In the __init__ we decide which kind of loss we're going to use (which will be \"vanilla\" in our project) and register some constant tensors as the \"real\" and \"fake\" labels. Then when we call this module, it makes an appropriate tensor full of zeros or ones (according to what we need at the stage) and computes the loss."
      ]
    },
    {
      "cell_type": "code",
      "execution_count": null,
      "metadata": {
        "id": "ZLfNsVHnKW18"
      },
      "outputs": [],
      "source": [
        "class GANLoss(nn.Module):\n",
        "    def __init__(self, gan_mode='vanilla', real_label=1.0, fake_label=0.0):\n",
        "        super().__init__()\n",
        "        self.register_buffer('real_label', torch.tensor(real_label))\n",
        "        self.register_buffer('fake_label', torch.tensor(fake_label))\n",
        "        if gan_mode == 'vanilla':\n",
        "            self.loss = nn.BCEWithLogitsLoss()\n",
        "        elif gan_mode == 'lsgan':\n",
        "            self.loss = nn.MSELoss()\n",
        "    \n",
        "    def get_labels(self, preds, target_is_real):\n",
        "        if target_is_real:\n",
        "            labels = self.real_label\n",
        "        else:\n",
        "            labels = self.fake_label\n",
        "        return labels.expand_as(preds)\n",
        "    \n",
        "    def __call__(self, preds, target_is_real):\n",
        "        labels = self.get_labels(preds, target_is_real)\n",
        "        loss = self.loss(preds, labels)\n",
        "        return loss"
      ]
    },
    {
      "cell_type": "markdown",
      "metadata": {
        "id": "50aOrYSrKW18"
      },
      "source": [
        "### 1.x Model Initialization"
      ]
    },
    {
      "cell_type": "markdown",
      "metadata": {
        "id": "MrycTeENKW18"
      },
      "source": [
        "In the TowardsDataScince article, I didn't explain this function. Here is our logic to initialize our models. We are going to initialize the weights of our model with a mean of 0.0 and standard deviation of 0.02 which are the proposed hyperparameters in the article:"
      ]
    },
    {
      "cell_type": "code",
      "execution_count": null,
      "metadata": {
        "id": "QuHjPgv1KW18"
      },
      "outputs": [],
      "source": [
        "def init_weights(net, init='norm', gain=0.02):\n",
        "    \n",
        "    def init_func(m):\n",
        "        classname = m.__class__.__name__\n",
        "        if hasattr(m, 'weight') and 'Conv' in classname:\n",
        "            if init == 'norm':\n",
        "                nn.init.normal_(m.weight.data, mean=0.0, std=gain)\n",
        "            elif init == 'xavier':\n",
        "                nn.init.xavier_normal_(m.weight.data, gain=gain)\n",
        "            elif init == 'kaiming':\n",
        "                nn.init.kaiming_normal_(m.weight.data, a=0, mode='fan_in')\n",
        "            \n",
        "            if hasattr(m, 'bias') and m.bias is not None:\n",
        "                nn.init.constant_(m.bias.data, 0.0)\n",
        "        elif 'BatchNorm2d' in classname:\n",
        "            nn.init.normal_(m.weight.data, 1., gain)\n",
        "            nn.init.constant_(m.bias.data, 0.)\n",
        "            \n",
        "    net.apply(init_func)\n",
        "    print(f\"model initialized with {init} initialization\")\n",
        "    return net\n",
        "\n",
        "def init_model(model, device):\n",
        "    model = model.to(device)\n",
        "    model = init_weights(model)\n",
        "    return model"
      ]
    },
    {
      "cell_type": "markdown",
      "metadata": {
        "id": "P0YLkH82KW19"
      },
      "source": [
        "### 1.6- Putting everything together"
      ]
    },
    {
      "cell_type": "markdown",
      "metadata": {
        "id": "Gv_QQWepKW19"
      },
      "source": [
        "This class brings together all the previous parts and implements a few methods to take care of training our complete model. Let's investigate it. \n",
        "\n",
        "In the __init__ we define our generator and discriminator using the previous functions and classes we defined and we also initialize them with init_model function which I didn't explain here but you can refer to my GitHub repository to see how it works. Then we define our two loss functions and the optimizers of the generator and discriminator. \n",
        "\n",
        "The whole work is being done in optimize method of this class. First and only once per iteration (batch of training set) we call the module's forward method and store the outputs in fake_color variable of the class. \n",
        "\n",
        "Then, we first train the discriminator by using backward_D method in which we feed the fake images produced by generator to the discriminator (make sure to detach them from the generator's graph so that they act as a constant to the discriminator, like normal images) and label them as fake. Then we feed a batch of real images from training set to the discriminator and label them as real. We add up the two losses for fake and real and take the average and then call the backward on the final loss. \n",
        "Now, we can train the generator. In backward_G method we feed the discriminator the fake image and try to fool it by assigning real labels to them and calculating the adversarial loss. As I mentioned earlier, we use L1 loss as well and compute the distance between the predicted two channels and the target two channels and multiply this loss by a coefficient (which is 100 in our case) to balance the two losses and then add this loss to the adversarial loss. Then we call the backward method of the loss."
      ]
    },
    {
      "cell_type": "code",
      "execution_count": null,
      "metadata": {
        "id": "TuB79vyOKW19"
      },
      "outputs": [],
      "source": [
        "class MainModel(nn.Module):\n",
        "    def __init__(self, net_G=None, lr_G=2e-5, lr_D=2e-5,\n",
        "                 beta1=0.5, beta2=0.999, lambda_L1=100.):\n",
        "        super().__init__()\n",
        "\n",
        "        self.device = torch.device(\"cuda\" if torch.cuda.is_available() else \"cpu\")\n",
        "        print(self.device)\n",
        "        self.lambda_L1 = lambda_L1\n",
        "\n",
        "        self.generators = {}\n",
        "        self.discriminators = {}\n",
        "        self.optimizers = {}\n",
        "        self.losses = {}\n",
        "\n",
        "        self.GANcriterion = GANLoss(gan_mode='vanilla').to(self.device)\n",
        "        self.L1criterion = nn.L1Loss()\n",
        "\n",
        "        for i in range(1, 3):\n",
        "            if net_G is None:\n",
        "                generator = init_model(\n",
        "                    Unet(\n",
        "                        input_c=3, output_c=2, n_down=8, num_filters=64\n",
        "                    ), self.device)\n",
        "            else:\n",
        "                generator = net_G.to(self.device)\n",
        "            self.generators[f\"G{i}\"] = generator\n",
        "\n",
        "            discriminator = init_model(\n",
        "                PatchDiscriminator(\n",
        "                    input_c=3, n_down=3, num_filters=64\n",
        "                ), self.device)\n",
        "            self.discriminators[f\"D{i}\"] = discriminator\n",
        "\n",
        "            self.optimizers[f\"D{i}\"] = optim.Adam(\n",
        "                self.net_D.parameters(), lr=lr_D, betas=(beta1, beta2))\n",
        "            self.optimizers[f\"G{i}\"] = optim.Adam(self.net_G.parameters(),\n",
        "                lr=lr_G, betas=(beta1, beta2))\n",
        "\n",
        "    def set_requires_grad(self, model, requires_grad=True):\n",
        "        for p in model.parameters():\n",
        "            p.requires_grad = requires_grad\n",
        "        \n",
        "    def setup_input(self, data):\n",
        "        self.L = data['L'].to(self.device)\n",
        "        self.ab_low = data['ab_low'].to(self.device)\n",
        "        self.ab = data['ab'].to(self.device)\n",
        "        self.mask = data['mask'].to(self.device)\n",
        "        \n",
        "    def forward(self):\n",
        "        self.fake_ab_low = self.generators[\"G1\"](self.L)\n",
        "        self.fake_image_low = torch.cat([self.L, self.fake_ab_low], dim=1)\n",
        "        self.fake_ab = self.generators[\"G2\"](self.fake_image_low)\n",
        "\n",
        "    def backward_D(self, key):\n",
        "        assert key in (\"D1\", \"D2\")\n",
        "\n",
        "        fake_preds = self.discriminators[key](\n",
        "            self.fake_ab_low if key == \"D1\" else self.fake_ab)\n",
        "        loss_D_fake = self.GANcriterion(fake_preds, False)\n",
        "\n",
        "        real_preds = self.discriminators[key](\n",
        "            self.ab_low if key == \"D1\" else self.ab)\n",
        "        loss_D_real = self.GANcriterion(real_preds, True)\n",
        "\n",
        "        self.losses[key] = (loss_D_fake + loss_D_real) * 0.5\n",
        "        self.losses[key].backward()\n",
        "\n",
        "        #\n",
        "    \n",
        "    def backward_G(self, key):\n",
        "        assert key in (\"G1\", \"G2\")\n",
        "\n",
        "        fake_image = torch.cat([self.L,\n",
        "                                self.ab_low if key == \"G1\" else self.ab],\n",
        "                               dim=1)\n",
        "        fake_preds = self.discriminators[key](fake_image.detach())\n",
        "        loss_G_GAN = self.GANcriterion(fake_preds, True)\n",
        "\n",
        "        if key == \"G1\":\n",
        "            loss_G_L1 = self.L1criterion(\n",
        "                self.fake_ab_low, self.ab_low) * self.lambda_L1\n",
        "        else:\n",
        "            loss_G_L1 = self.L1criterion(self.fake_ab,\n",
        "                self.ab) * self.lambda_L1\n",
        "\n",
        "        self.losses[key] = loss_G_GAN + loss_G_L1\n",
        "        self.losses[key].backward()\n",
        "    \n",
        "    def optimize(self):\n",
        "        self.forward()\n",
        "\n",
        "        for key in self.discriminators.keys():\n",
        "            self.discriminators[key].train()\n",
        "            self.set_requires_grad(self.discriminators[key], True)\n",
        "            self.optimizers[key].zero_grad()\n",
        "            self.backward_D(key)\n",
        "            self.optimizers[key].step()\n",
        "\n",
        "        for i in range(1, 3):\n",
        "            key = f\"G{i}\"\n",
        "            d_key = f\"D{i}\"\n",
        "            self.generators[key].train()\n",
        "            self.set_requires_grad(self.discriminators[d_key], False)\n",
        "            self.optimizers[key].zero_grad()\n",
        "            self.backward_G(key)\n",
        "            self.optimizers[key].step()\n",
        "\n",
        "    def save(self):\n",
        "        for key, generator in self.generators.items():\n",
        "            torch.save(generator.state_dict(), f\"{key}_next.pth\")\n",
        "        for key, discriminator in self.discriminators.items():\n",
        "            torch.save(discriminator.state_dict(), f\"{key}.pth\")\n",
        "\n",
        "    def load(self):\n",
        "        for key in self.generators.keys():\n",
        "            self.generators[key].load_state_dict(torch.load(f\"{key}_next.pth\"))\n",
        "        for key in self.discriminators.keys():\n",
        "            self.discriminators[key].load_state_dict(torch.load(f\"{key}_next.pth\"))"
      ]
    },
    {
      "cell_type": "markdown",
      "metadata": {
        "id": "VBzgl9OmKW19"
      },
      "source": [
        "### 1.xx Utility functions"
      ]
    },
    {
      "cell_type": "markdown",
      "metadata": {
        "id": "euevMJxVKW19"
      },
      "source": [
        "These functions were nor included in the explanations of the TDS article. These are just some utility functions to log the losses of our network and also visualize the results during training. So here you can check them out:"
      ]
    },
    {
      "cell_type": "code",
      "execution_count": null,
      "metadata": {
        "id": "qSwx0OSWKW19"
      },
      "outputs": [],
      "source": [
        "class AverageMeter:\n",
        "    def __init__(self):\n",
        "        self.reset()\n",
        "        \n",
        "    def reset(self):\n",
        "        self.count, self.avg, self.sum = [0.] * 3\n",
        "    \n",
        "    def update(self, val, count=1):\n",
        "        self.count += count\n",
        "        self.sum += count * val\n",
        "        self.avg = self.sum / self.count\n",
        "\n",
        "def create_loss_meters():\n",
        "    loss_D_fake = AverageMeter()\n",
        "    loss_D_real = AverageMeter()\n",
        "    loss_D = AverageMeter()\n",
        "    loss_G_GAN = AverageMeter()\n",
        "    loss_G_L1 = AverageMeter()\n",
        "    loss_G = AverageMeter()\n",
        "    \n",
        "    return {'loss_D_fake': loss_D_fake,\n",
        "            'loss_D_real': loss_D_real,\n",
        "            'loss_D': loss_D,\n",
        "            'loss_G_GAN': loss_G_GAN,\n",
        "            'loss_G_L1': loss_G_L1,\n",
        "            'loss_G': loss_G}\n",
        "\n",
        "def update_losses(model, loss_meter_dict, count):\n",
        "    for loss_name, loss_meter in loss_meter_dict.items():\n",
        "        loss = getattr(model, loss_name)\n",
        "        loss_meter.update(loss.item(), count=count)\n",
        "\n",
        "def lab_to_rgb(L, ab):\n",
        "    \"\"\"\n",
        "    Takes a batch of images\n",
        "    \"\"\"\n",
        "    \n",
        "    Lab = torch.cat([L, ab], dim=1)\n",
        "    RGB = lab2rgb(Lab)\n",
        "    rgb_imgs = RGB.permute(0, 2, 3, 1).cpu().numpy()\n",
        "    rgb = []\n",
        "    for img in rgb_imgs:\n",
        "        rgb.append(img)\n",
        "    return np.stack(rgb, axis=0)\n",
        "    \n",
        "def visualize(model, data, save=True):\n",
        "    model.net_G1.eval()\n",
        "    with torch.no_grad():\n",
        "        model.setup_input(data)\n",
        "        model.forward()\n",
        "    model.net_G1.train()\n",
        "    fake_color = model.fake_color.detach()\n",
        "    real_color = model.ab\n",
        "    L = model.L\n",
        "    fake_imgs = lab_to_rgb(L, fake_color)\n",
        "    real_imgs = lab_to_rgb(L, real_color)\n",
        "    fig = plt.figure(figsize=(15, 8))\n",
        "    for i in range(L.shape[0]):\n",
        "        ax = plt.subplot(3, 5, i + 1)\n",
        "        ax.imshow(L[i][0].cpu(), cmap='gray')\n",
        "        ax.axis(\"off\")\n",
        "        ax = plt.subplot(3, 5, i + 1 + 5)\n",
        "        ax.imshow(fake_imgs[i])\n",
        "        ax.axis(\"off\")\n",
        "        ax = plt.subplot(3, 5, i + 1 + 10)\n",
        "        ax.imshow(real_imgs[i])\n",
        "        ax.axis(\"off\")\n",
        "    plt.show()\n",
        "    if save:\n",
        "        fig.savefig(f\"colorization_{time.time()}.png\")\n",
        "        \n",
        "def log_results(loss_meter_dict):\n",
        "    for loss_name, loss_meter in loss_meter_dict.items():\n",
        "        print(f\"{loss_name}: {loss_meter.avg:.5f}\")"
      ]
    },
    {
      "cell_type": "markdown",
      "metadata": {
        "id": "0H7veHmTKW1-"
      },
      "source": [
        "### 1.7- Training function"
      ]
    },
    {
      "cell_type": "markdown",
      "metadata": {
        "id": "8zawf29TKW1-"
      },
      "source": [
        "I hope this code is self-explanatory. Every epoch takes about 4 minutes on not a powerful GPU as Nvidia P5000. So if you are using 1080Ti or higher, it will be much faster."
      ]
    },
    {
      "cell_type": "code",
      "execution_count": null,
      "metadata": {
        "id": "Fe8sGbD0KW1-",
        "outputId": "caf6d6a1-5881-4296-af3c-35605f753e14"
      },
      "outputs": [
        {
          "name": "stdout",
          "output_type": "stream",
          "text": [
            "model initialized with norm initialization\n",
            "model initialized with norm initialization\n"
          ]
        },
        {
          "data": {
            "application/vnd.jupyter.widget-view+json": {
              "model_id": "5ab704f648624905813774f64bee5155",
              "version_major": 2,
              "version_minor": 0
            },
            "text/plain": [
              "  0%|          | 0/4 [00:00<?, ?it/s]"
            ]
          },
          "metadata": {},
          "output_type": "display_data"
        },
        {
          "name": "stdout",
          "output_type": "stream",
          "text": [
            "torch.Size([4, 1, 256, 256])\n",
            "\n",
            "Epoch 1/1\n",
            "Iteration 1/4\n",
            "loss_D_fake: 0.72440\n",
            "loss_D_real: 0.92867\n",
            "loss_D: 0.82653\n",
            "loss_G_GAN: 1.50524\n",
            "loss_G_L1: 8.64008\n",
            "loss_G: 10.14531\n"
          ]
        },
        {
          "ename": "AttributeError",
          "evalue": "'MainModel' object has no attribute 'net_G'",
          "output_type": "error",
          "traceback": [
            "\u001b[0;31m---------------------------------------------------------------------------\u001b[0m",
            "\u001b[0;31mAttributeError\u001b[0m                            Traceback (most recent call last)",
            "\u001b[0;32m/tmp/ipykernel_27069/585812953.py\u001b[0m in \u001b[0;36m<module>\u001b[0;34m\u001b[0m\n\u001b[1;32m     19\u001b[0m \u001b[0mmodel\u001b[0m \u001b[0;34m=\u001b[0m \u001b[0mMainModel\u001b[0m\u001b[0;34m(\u001b[0m\u001b[0mnet_G1\u001b[0m \u001b[0;34m=\u001b[0m \u001b[0mgen1\u001b[0m\u001b[0;34m,\u001b[0m \u001b[0mnet_G2\u001b[0m\u001b[0;34m=\u001b[0m\u001b[0mgen2\u001b[0m\u001b[0;34m)\u001b[0m\u001b[0;34m\u001b[0m\u001b[0;34m\u001b[0m\u001b[0m\n\u001b[1;32m     20\u001b[0m \u001b[0;34m\u001b[0m\u001b[0m\n\u001b[0;32m---> 21\u001b[0;31m \u001b[0mtrain_model\u001b[0m\u001b[0;34m(\u001b[0m\u001b[0mmodel\u001b[0m\u001b[0;34m,\u001b[0m \u001b[0mtrain_dl\u001b[0m\u001b[0;34m,\u001b[0m \u001b[0;36m1\u001b[0m\u001b[0;34m)\u001b[0m\u001b[0;34m\u001b[0m\u001b[0;34m\u001b[0m\u001b[0m\n\u001b[0m",
            "\u001b[0;32m/tmp/ipykernel_27069/585812953.py\u001b[0m in \u001b[0;36mtrain_model\u001b[0;34m(model, train_dl, epochs, display_every)\u001b[0m\n\u001b[1;32m     13\u001b[0m                 \u001b[0mprint\u001b[0m\u001b[0;34m(\u001b[0m\u001b[0;34mf\"Iteration {i}/{len(train_dl)}\"\u001b[0m\u001b[0;34m)\u001b[0m\u001b[0;34m\u001b[0m\u001b[0;34m\u001b[0m\u001b[0m\n\u001b[1;32m     14\u001b[0m                 \u001b[0mlog_results\u001b[0m\u001b[0;34m(\u001b[0m\u001b[0mloss_meter_dict\u001b[0m\u001b[0;34m)\u001b[0m \u001b[0;31m# function to print out the losses\u001b[0m\u001b[0;34m\u001b[0m\u001b[0;34m\u001b[0m\u001b[0m\n\u001b[0;32m---> 15\u001b[0;31m                 \u001b[0mvisualize\u001b[0m\u001b[0;34m(\u001b[0m\u001b[0mmodel\u001b[0m\u001b[0;34m,\u001b[0m \u001b[0mdata\u001b[0m\u001b[0;34m,\u001b[0m \u001b[0msave\u001b[0m\u001b[0;34m=\u001b[0m\u001b[0;32mFalse\u001b[0m\u001b[0;34m)\u001b[0m \u001b[0;31m# function displaying the model's outputs\u001b[0m\u001b[0;34m\u001b[0m\u001b[0;34m\u001b[0m\u001b[0m\n\u001b[0m\u001b[1;32m     16\u001b[0m \u001b[0;34m\u001b[0m\u001b[0m\n\u001b[1;32m     17\u001b[0m \u001b[0mgen1\u001b[0m \u001b[0;34m=\u001b[0m \u001b[0msiggraph17\u001b[0m\u001b[0;34m(\u001b[0m\u001b[0;32mTrue\u001b[0m\u001b[0;34m)\u001b[0m\u001b[0;34m\u001b[0m\u001b[0;34m\u001b[0m\u001b[0m\n",
            "\u001b[0;32m/tmp/ipykernel_27069/1026193240.py\u001b[0m in \u001b[0;36mvisualize\u001b[0;34m(model, data, save)\u001b[0m\n\u001b[1;32m     45\u001b[0m \u001b[0;34m\u001b[0m\u001b[0m\n\u001b[1;32m     46\u001b[0m \u001b[0;32mdef\u001b[0m \u001b[0mvisualize\u001b[0m\u001b[0;34m(\u001b[0m\u001b[0mmodel\u001b[0m\u001b[0;34m,\u001b[0m \u001b[0mdata\u001b[0m\u001b[0;34m,\u001b[0m \u001b[0msave\u001b[0m\u001b[0;34m=\u001b[0m\u001b[0;32mTrue\u001b[0m\u001b[0;34m)\u001b[0m\u001b[0;34m:\u001b[0m\u001b[0;34m\u001b[0m\u001b[0;34m\u001b[0m\u001b[0m\n\u001b[0;32m---> 47\u001b[0;31m     \u001b[0mmodel\u001b[0m\u001b[0;34m.\u001b[0m\u001b[0mnet_G\u001b[0m\u001b[0;34m.\u001b[0m\u001b[0meval\u001b[0m\u001b[0;34m(\u001b[0m\u001b[0;34m)\u001b[0m\u001b[0;34m\u001b[0m\u001b[0;34m\u001b[0m\u001b[0m\n\u001b[0m\u001b[1;32m     48\u001b[0m     \u001b[0;32mwith\u001b[0m \u001b[0mtorch\u001b[0m\u001b[0;34m.\u001b[0m\u001b[0mno_grad\u001b[0m\u001b[0;34m(\u001b[0m\u001b[0;34m)\u001b[0m\u001b[0;34m:\u001b[0m\u001b[0;34m\u001b[0m\u001b[0;34m\u001b[0m\u001b[0m\n\u001b[1;32m     49\u001b[0m         \u001b[0mmodel\u001b[0m\u001b[0;34m.\u001b[0m\u001b[0msetup_input\u001b[0m\u001b[0;34m(\u001b[0m\u001b[0mdata\u001b[0m\u001b[0;34m)\u001b[0m\u001b[0;34m\u001b[0m\u001b[0;34m\u001b[0m\u001b[0m\n",
            "\u001b[0;32m~/.local/lib/python3.8/site-packages/torch/nn/modules/module.py\u001b[0m in \u001b[0;36m__getattr__\u001b[0;34m(self, name)\u001b[0m\n\u001b[1;32m   1175\u001b[0m             \u001b[0;32mif\u001b[0m \u001b[0mname\u001b[0m \u001b[0;32min\u001b[0m \u001b[0mmodules\u001b[0m\u001b[0;34m:\u001b[0m\u001b[0;34m\u001b[0m\u001b[0;34m\u001b[0m\u001b[0m\n\u001b[1;32m   1176\u001b[0m                 \u001b[0;32mreturn\u001b[0m \u001b[0mmodules\u001b[0m\u001b[0;34m[\u001b[0m\u001b[0mname\u001b[0m\u001b[0;34m]\u001b[0m\u001b[0;34m\u001b[0m\u001b[0;34m\u001b[0m\u001b[0m\n\u001b[0;32m-> 1177\u001b[0;31m         raise AttributeError(\"'{}' object has no attribute '{}'\".format(\n\u001b[0m\u001b[1;32m   1178\u001b[0m             type(self).__name__, name))\n\u001b[1;32m   1179\u001b[0m \u001b[0;34m\u001b[0m\u001b[0m\n",
            "\u001b[0;31mAttributeError\u001b[0m: 'MainModel' object has no attribute 'net_G'"
          ]
        }
      ],
      "source": [
        "def train_model(model, train_dl, epochs, display_every=1):\n",
        "    data = next(iter(val_dl)) # getting a batch for visualizing the model output after fixed intrvals\n",
        "    for e in range(epochs):\n",
        "        loss_meter_dict = create_loss_meters() # function returing a dictionary of objects to \n",
        "        i = 0                                  # log the losses of the complete network\n",
        "        for data in tqdm(train_dl):\n",
        "            model.setup_input(data) \n",
        "            model.optimize()\n",
        "            update_losses(model, loss_meter_dict, count=data.shape[0]) # function updating the log objects\n",
        "            i += 1\n",
        "            if i % display_every == 0:\n",
        "                print(f\"\\nEpoch {e+1}/{epochs}\")\n",
        "                print(f\"Iteration {i}/{len(train_dl)}\")\n",
        "                log_results(loss_meter_dict) # function to print out the losses\n",
        "                visualize(model, data, save=False) # function displaying the model's outputs\n",
        "\n",
        "gen1 = siggraph17(True)\n",
        "gen2 = siggraph17(True)\n",
        "model = MainModel(net_G1 = gen1, net_G2=gen2)\n",
        "\n",
        "train_model(model, train_dl, 1)"
      ]
    },
    {
      "cell_type": "markdown",
      "metadata": {
        "id": "kmPkjvusKW1-"
      },
      "source": [
        "Every epoch takes about 3 to 4 minutes on Colab. After about 20 epochs you should see some reasonable results."
      ]
    },
    {
      "cell_type": "markdown",
      "metadata": {
        "id": "hmBDXeb1KW1-"
      },
      "source": [
        "Okay. I let the model train for some longer (about 100 epochs). Here are the results of our baseline model:\n",
        "\n",
        "![baseline](./files/baseline.png)"
      ]
    },
    {
      "cell_type": "markdown",
      "metadata": {
        "id": "ggMpFrmFKW1-"
      },
      "source": [
        "As you can see, although this baseline model has some basic understanding of some most common objects in images like sky, trees, … its output is far from something appealing and it cannot decide on the color of rare objects. It also displays some color spillovers and circle-shaped mass of color (center of first image of second row) which is not good at all. So, it seems like that with this small dataset we cannot get good results with this strategy. **Therefore, we change our strategy!**"
      ]
    },
    {
      "cell_type": "markdown",
      "metadata": {
        "id": "ZyeLZBi7KW1_"
      },
      "source": [
        "## 2- A new strategy - the final model"
      ]
    },
    {
      "cell_type": "markdown",
      "metadata": {
        "id": "MYcjuSHlKW1_"
      },
      "source": [
        "Here is the focus of this article and where I'm going to explain what I did to overcome the last mentioned problem. Inspired by an idea in Super Resolution literature, I decided to pretrain the generator separately in a supervised and deterministic manner to avoid the problem of \"the blind leading the blind\" in the GAN game where neither generator nor discriminator knows anything about the task at the beginning of training. \n",
        "\n",
        "Actually I use pretraining in two stages: 1- The backbone of the generator (the down sampling path) is a pretrained model for classification (on ImageNet) 2- The whole generator will be pretrained on the task of colorization with L1 loss.\n",
        "\n",
        "In fact, I'm going to use a pretrained ResNet18 as the backbone of my U-Net and to accomplish the second stage of pretraining, we are going to train the U-Net on our training set with only L1 Loss. Then we will move to the combined adversarial and L1 loss, as we did in the previous section."
      ]
    },
    {
      "cell_type": "markdown",
      "metadata": {
        "id": "4q6Nlu3aKW1_"
      },
      "source": [
        "### 2.1- Using a new generator"
      ]
    },
    {
      "cell_type": "markdown",
      "metadata": {
        "id": "xSpfolmFKW1_"
      },
      "source": [
        "Building a U-Net with a ResNet backbone is not something trivial so I'll use fastai library's Dynamic U-Net module to easily build one. You can simply install fastai with pip or conda (if you haven't already at the beginning of the tutorial). Here's the link to the [documentation](https://docs.fast.ai/)."
      ]
    },
    {
      "cell_type": "code",
      "execution_count": null,
      "metadata": {
        "id": "DOd1iP5AKW1_"
      },
      "outputs": [],
      "source": [
        "# from fastai.vision.learner import create_body\n",
        "# from torchvision.models.resnet import resnet18\n",
        "# from fastai.vision.models.unet import DynamicUnet"
      ]
    },
    {
      "cell_type": "code",
      "execution_count": null,
      "metadata": {
        "id": "HQJcgFH4KW1_"
      },
      "outputs": [],
      "source": [
        "# def build_res_unet(n_input=1, n_output=2, size=256):\n",
        "#     device = torch.device(\"cuda\" if torch.cuda.is_available() else \"cpu\")\n",
        "#     body = create_body(resnet18, pretrained=True, n_in=n_input, cut=-2)\n",
        "#     net_G = DynamicUnet(body, n_output, (size, size)).to(device)\n",
        "#     return net_G"
      ]
    },
    {
      "cell_type": "markdown",
      "metadata": {
        "id": "wMoUk5IuKW1_"
      },
      "source": [
        "That's it! With just these few lines of code you can build such a complex model easily. create_body function loads the pretrained weights of the ResNet18 architecture and cuts the model to remove the last two layers (GlobalAveragePooling and a Linear layer for the ImageNet classification task). Then, DynamicUnet uses this backbone to build a U-Net with the needed output channels (2 in our case) and with an input size of 256."
      ]
    },
    {
      "cell_type": "markdown",
      "metadata": {
        "id": "Wrrng209KW1_"
      },
      "source": [
        "### 2.2 Pretraining the generator for colorization task"
      ]
    },
    {
      "cell_type": "code",
      "execution_count": null,
      "metadata": {
        "id": "8bRnSLKbKW1_"
      },
      "outputs": [],
      "source": [
        "# def pretrain_generator(net_G, train_dl, opt, criterion, epochs):\n",
        "#     for e in range(epochs):\n",
        "#         loss_meter = AverageMeter()\n",
        "#         for data in tqdm(train_dl):\n",
        "#             L, ab = data['L'].to(device), data['ab'].to(device)\n",
        "#             preds = net_G(L)\n",
        "#             loss = criterion(preds, ab)\n",
        "#             opt.zero_grad()\n",
        "#             loss.backward()\n",
        "#             opt.step()\n",
        "            \n",
        "#             loss_meter.update(loss.item(), L.size(0))\n",
        "            \n",
        "#         print(f\"Epoch {e + 1}/{epochs}\")\n",
        "#         print(f\"L1 Loss: {loss_meter.avg:.5f}\")\n",
        "\n",
        "# net_G = build_res_unet(n_input=1, n_output=2, size=256)\n",
        "# opt = optim.Adam(net_G.parameters(), lr=1e-4)\n",
        "# criterion = nn.L1Loss()        \n",
        "# pretrain_generator(net_G, train_dl, opt, criterion, 20)\n",
        "# #torch.save(net_G.state_dict(), \"res18-unet.pt\")"
      ]
    },
    {
      "cell_type": "markdown",
      "metadata": {
        "id": "BWXx6MgAKW2A"
      },
      "source": [
        "With this simple function, we pretrain the generator for 20 epochs and then we save its weights. This will take an hour on Colab. In the following section, we will use this model as the generator for our GAN and train the whole network as before:"
      ]
    },
    {
      "cell_type": "markdown",
      "metadata": {
        "id": "Ikpd7vfBKW2A"
      },
      "source": [
        "### 2.3 Putting everything together, again!"
      ]
    },
    {
      "cell_type": "markdown",
      "metadata": {
        "id": "SuPhO6PvKW2A"
      },
      "source": [
        "If you want to train the model yourself, run the following cell. Instead, if you want to use the pretrained weights, skip the cell and run the one after that. "
      ]
    },
    {
      "cell_type": "code",
      "execution_count": null,
      "metadata": {
        "id": "Vkr_tpkqKW2A"
      },
      "outputs": [],
      "source": [
        "# net_G = build_res_unet(n_input=1, n_output=2, size=256)\n",
        "# net_G.load_state_dict(torch.load(\"res18-unet.pt\", map_location=device))\n",
        "# model = MainModel(net_G=net_G)\n",
        "# train_model(model, train_dl, 20)"
      ]
    },
    {
      "cell_type": "markdown",
      "metadata": {
        "id": "M77q-FInKW2A"
      },
      "source": [
        "Here I'm first loading the saved weights for the generator (which you have saved in the previous section) and then I'm using this model as the generator in our MainModel class  which prevents it from randomly initializing the generator. Then we train the model for 10 to 20 epochs! (compare it to the 100 epochs of the previous section when we didn't use pretraining). Each epoch takes about 3 to 4 minutes on Colab"
      ]
    },
    {
      "cell_type": "markdown",
      "metadata": {
        "id": "7jS2LdfuKW2A"
      },
      "source": [
        "If you are on Colab and want to use the pretrained weights, run the following cells which download the weights from my google drive and loads it to the model:"
      ]
    },
    {
      "cell_type": "code",
      "execution_count": null,
      "metadata": {
        "id": "FqWmtDmkKW2A"
      },
      "outputs": [],
      "source": [
        "# !gdown --id 1lR6DcS4m5InSbZ5y59zkH2mHt_4RQ2KV"
      ]
    },
    {
      "cell_type": "code",
      "execution_count": null,
      "metadata": {
        "id": "fg0tZorlKW2A"
      },
      "outputs": [],
      "source": [
        "# net_G = build_res_unet(n_input=1, n_output=2, size=256)\n",
        "# net_G.load_state_dict(torch.load(\"res18-unet.pt\", map_location=device))\n",
        "# model = MainModel(net_G=net_G)\n",
        "# model.load_state_dict(torch.load(\"final_model_weights.pt\", map_location=device))"
      ]
    },
    {
      "cell_type": "markdown",
      "metadata": {
        "id": "C1siDSDkKW2A"
      },
      "source": [
        "Now, I will show the results of this final model on the test set (the black and white images that it has never seen during training) including the main title image of this article at the very beginning:"
      ]
    },
    {
      "cell_type": "markdown",
      "metadata": {
        "id": "lxN87R73KW2B"
      },
      "source": [
        "![output 1](./files/main.png)\n",
        "Left: Input black & white images from test set | Right: the colorized outputs by the final model of this tutorial\n",
        "---\n",
        "![output2](./files/img1.png)\n",
        "Left: Input black & white images from test set | Right: the colorized outputs by the final model of this tutorial\n",
        "---\n",
        "![output3](./files/img2.png)\n",
        "Left: Input black & white images from test set | Right: the colorized outputs by the final model of this tutorial\n",
        "---"
      ]
    },
    {
      "cell_type": "markdown",
      "metadata": {
        "id": "H7-VpNBXKW2B"
      },
      "source": [
        "## An accidental finding: You can safely remove Dropout!"
      ]
    },
    {
      "cell_type": "markdown",
      "metadata": {
        "id": "z_BdTRAzKW2B"
      },
      "source": [
        "Remember that when I was explaining the theory of conditional GAN in the beginning of this article, I said that the source of the noise in the architecture of the generator proposed by authors of the paper was the dropout layers. However, when I investigated the U-Net we built with the help of fastai, I did not find any dropout layers in there! Actually I first trained the final model and got the results and then I investigated the generator and found this out. \n",
        "\n",
        "So, was the adversarial training useless? If there is no noise, how possibly the generator can have a creative effect on the output? Is it possible that the input grayscale image to the generator plays the role of noise as well? These were my exact questions at the time. \n",
        "\n",
        "Therefor, I decided to email Dr. Phillip Isola, the first author of the same paper we implemented here, and he kindly answered these questions. According to what he said,  this conditional GAN can still work without dropout but the outputs will be more deterministic because of the lack of that noise; however, there is still enough information in that input grayscale image which enables the generator to produce compelling outputs.\n",
        "Actually, I saw this in practice that the adversarial training was helpful indeed. In the next and last section, I'm going to compare the results of the pretrained U-Net with no adversarial training against the final outputs we got with adversarial training."
      ]
    },
    {
      "cell_type": "markdown",
      "metadata": {
        "id": "4pLHJvmrKW2B"
      },
      "source": [
        "## Comparing the results of the pretrained U-Net with and without adversarial training"
      ]
    },
    {
      "cell_type": "markdown",
      "metadata": {
        "id": "Gc7u1bkLKW2B"
      },
      "source": [
        "One of the cool thing I found in my experiments was that the U-Net we built with the ResNet18 backbone is already awesome in colorizing images after pretraining with L1 Loss only (a step before the final adversarial training). But, the model is still conservative and encourages using gray-ish colors when it is not sure about what the object is or what color it should be. However, it performs really awesome for common scenes in the images like sky, tree, grass, etc. \n",
        "\n",
        "Here I show you the outputs of the U-Net without adversarial training and U-Net with adversarial training to better depict the significant difference that the adversarial training is making in our case:\n",
        "\n",
        "![comparison](./files/comparison1.png)\n",
        "(Left: pretrained U-Net without adversarial training | Right: pretrained U-Net with adversarial training)\n",
        "---"
      ]
    },
    {
      "cell_type": "markdown",
      "metadata": {
        "id": "ZSNCRKenKW2B"
      },
      "source": [
        "You can also see the GIF below to observe the difference between the images better:\n",
        "\n",
        "![anim](./files/anim_compare.gif)\n",
        "(animation of the last two images to better see the significant difference that adversarial training is making)\n",
        "---"
      ]
    },
    {
      "cell_type": "markdown",
      "metadata": {
        "id": "KsK6ccY1KW2B"
      },
      "source": [
        "## Final words"
      ]
    },
    {
      "cell_type": "markdown",
      "metadata": {
        "id": "6pclErhRKW2D"
      },
      "source": [
        "This project was full of important lessons for myself. I spent a lot of time during the last month to implement lots of different papers each with different strategies and it took quite a while and after A LOT of failures that I could come up with this method of training. Now you can see that how pretraining the generator significantly helped the model and improved the results.\n",
        "\n",
        "I also learned that some observations, although at first feeling like a bad mistake of yours, are worth paying attention to and further investigation; like the case of dropout in this project. Thanks to the helpful community of deep learning and AI, you can easily ask experts and get the answer you need and become more confidant in what you were just guessing. \n",
        "\n",
        "I want to thank the authors of this wonderful paper for their awesome work and also [the great GitHub repository of this paper](https://github.com/junyanz/pytorch-CycleGAN-and-pix2pix) from which I borrowed some of the codes (with modification and simplification). I truly love the community of computer science and AI and all their hard work to improve the field and also make their contributions available to all. I'm happy to be a tiny part of this community."
      ]
    }
  ],
  "metadata": {
    "kernelspec": {
      "display_name": "Python 3",
      "language": "python",
      "name": "python3"
    },
    "language_info": {
      "codemirror_mode": {
        "name": "ipython",
        "version": 3
      },
      "file_extension": ".py",
      "mimetype": "text/x-python",
      "name": "python",
      "nbconvert_exporter": "python",
      "pygments_lexer": "ipython3",
      "version": "3.8.10"
    },
    "colab": {
      "name": "Image_Colorization_with_U-Net_GAN.ipynb",
      "provenance": [],
      "collapsed_sections": [
        "U2UHTLB3KW18",
        "VBzgl9OmKW19",
        "0H7veHmTKW1-",
        "4q6Nlu3aKW1_",
        "Wrrng209KW1_",
        "Ikpd7vfBKW2A"
      ]
    },
    "accelerator": "GPU"
  },
  "nbformat": 4,
  "nbformat_minor": 0
}